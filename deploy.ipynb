{
 "cells": [
  {
   "cell_type": "code",
   "execution_count": 1,
   "metadata": {},
   "outputs": [],
   "source": [
    "import json\n",
    "from typing import Any, TypedDict\n",
    "from conflux_web3 import Web3\n",
    "from dotenv import dotenv_values\n",
    "\n",
    "config = dotenv_values(\".env\")\n",
    "\n",
    "\n",
    "class Metadata(TypedDict):\n",
    "    abi: Any\n",
    "    bytecode: Any\n",
    "\n",
    "\n",
    "def get_metadata(name: str) -> Metadata:\n",
    "    with open(f\"artifacts/contracts/{name}.sol/{name}.json\") as f:\n",
    "        d = json.load(f)\n",
    "        return {\n",
    "            \"abi\": d[\"abi\"],\n",
    "            \"bytecode\": d[\"bytecode\"]\n",
    "        }\n",
    "\n",
    "w3 = Web3(Web3.HTTPProvider(config[\"RPC\"]))\n",
    "w3.cfx.default_account = w3.account.from_key(config[\"SK\"])\n",
    "NFT_CONTRACT_ADDRESS = config[\"NFT_CONTRACT_ADDRESS\"]\n",
    "Pool = w3.cfx.contract(**get_metadata(\"ContributorRewardsPool\"))\n"
   ]
  },
  {
   "cell_type": "code",
   "execution_count": 2,
   "metadata": {},
   "outputs": [],
   "source": [
    "# fc_address = w3.cfx.contract(name=\"FC\", with_deployment_info=True).address\n",
    "fc_address = w3.cfx.contract(name=\"FC\", with_deployment_info=True).address"
   ]
  },
  {
   "cell_type": "code",
   "execution_count": 3,
   "metadata": {},
   "outputs": [],
   "source": [
    "pool_address = Pool.constructor(NFT_CONTRACT_ADDRESS, fc_address, 2*10**18).transact().executed()[\"contractCreated\"]"
   ]
  },
  {
   "cell_type": "code",
   "execution_count": 4,
   "metadata": {},
   "outputs": [
    {
     "name": "stdout",
     "output_type": "stream",
     "text": [
      "cfx:achm6kb92by13rpvwd04zscn1127zuaseu25usm7sc\n"
     ]
    }
   ],
   "source": [
    "print(pool_address)"
   ]
  }
 ],
 "metadata": {
  "kernelspec": {
   "display_name": "sdk",
   "language": "python",
   "name": "python3"
  },
  "language_info": {
   "codemirror_mode": {
    "name": "ipython",
    "version": 3
   },
   "file_extension": ".py",
   "mimetype": "text/x-python",
   "name": "python",
   "nbconvert_exporter": "python",
   "pygments_lexer": "ipython3",
   "version": "3.8.18"
  }
 },
 "nbformat": 4,
 "nbformat_minor": 2
}
